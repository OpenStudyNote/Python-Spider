{
 "cells": [
  {
   "cell_type": "markdown",
   "metadata": {},
   "source": [
    "python 3.7  \n",
    "matplotlib   pyecharts"
   ]
  },
  {
   "cell_type": "markdown",
   "metadata": {},
   "source": [
    "目的：分别采用matplotlib 和 pyecharts 绘图 "
   ]
  },
  {
   "cell_type": "markdown",
   "metadata": {},
   "source": [
    "**思路**：\n",
    "\n",
    "导入数据\n",
    "\n",
    "pandas清洗数据。\n",
    "\n",
    "用matplotlib绘图\n",
    "\n",
    "用pyecharts绘图"
   ]
  },
  {
   "cell_type": "markdown",
   "metadata": {},
   "source": [
    "---\n"
   ]
  },
  {
   "cell_type": "markdown",
   "metadata": {},
   "source": [
    "# 海外数据的导入并简单清洗数据"
   ]
  },
  {
   "cell_type": "markdown",
   "metadata": {},
   "source": [
    "### 导入"
   ]
  },
  {
   "cell_type": "code",
   "execution_count": 63,
   "metadata": {},
   "outputs": [],
   "source": [
    "import pandas as pd\n",
    "import numpy as np"
   ]
  },
  {
   "cell_type": "code",
   "execution_count": 64,
   "metadata": {},
   "outputs": [
    {
     "name": "stdout",
     "output_type": "stream",
     "text": [
      " 驱动器 D 中的卷是 data\n",
      " 卷的序列号是 C486-DFF8\n",
      "\n",
      " D:\\0WS\\python_crawl_COVID-19\\crawl and V 的目录\n",
      "\n",
      "2020/04/17  10:51    <DIR>          .\n",
      "2020/04/17  10:51    <DIR>          ..\n",
      "2020/04/15  22:26    <DIR>          .ipynb_checkpoints\n",
      "2020/04/15  22:53            56,812 crawl.ipynb\n",
      "2020/04/15  22:59    <DIR>          data\n",
      "2020/04/17  10:51            67,222 visualization.ipynb\n",
      "               2 个文件        124,034 字节\n",
      "               4 个目录 34,247,360,512 可用字节\n"
     ]
    }
   ],
   "source": [
    "ls"
   ]
  },
  {
   "cell_type": "code",
   "execution_count": 65,
   "metadata": {},
   "outputs": [],
   "source": [
    "foreign_df = pd.read_json('./data/foreign_df.json')"
   ]
  },
  {
   "cell_type": "code",
   "execution_count": 66,
   "metadata": {
    "scrolled": true
   },
   "outputs": [
    {
     "data": {
      "text/html": [
       "<div>\n",
       "<style scoped>\n",
       "    .dataframe tbody tr th:only-of-type {\n",
       "        vertical-align: middle;\n",
       "    }\n",
       "\n",
       "    .dataframe tbody tr th {\n",
       "        vertical-align: top;\n",
       "    }\n",
       "\n",
       "    .dataframe thead th {\n",
       "        text-align: right;\n",
       "    }\n",
       "</style>\n",
       "<table border=\"1\" class=\"dataframe\">\n",
       "  <thead>\n",
       "    <tr style=\"text-align: right;\">\n",
       "      <th></th>\n",
       "      <th>地区</th>\n",
       "      <th>新增确诊</th>\n",
       "      <th>累计确诊</th>\n",
       "      <th>治愈</th>\n",
       "      <th>死亡</th>\n",
       "      <th>疫情</th>\n",
       "    </tr>\n",
       "  </thead>\n",
       "  <tbody>\n",
       "    <tr>\n",
       "      <th>0</th>\n",
       "      <td>美国</td>\n",
       "      <td>26465</td>\n",
       "      <td>609685</td>\n",
       "      <td>49966</td>\n",
       "      <td>26059</td>\n",
       "      <td>详情</td>\n",
       "    </tr>\n",
       "    <tr>\n",
       "      <th>1</th>\n",
       "      <td>西班牙</td>\n",
       "      <td>5092</td>\n",
       "      <td>177633</td>\n",
       "      <td>70853</td>\n",
       "      <td>18579</td>\n",
       "      <td>详情</td>\n",
       "    </tr>\n",
       "    <tr>\n",
       "      <th>10</th>\n",
       "      <td>加拿大</td>\n",
       "      <td>1383</td>\n",
       "      <td>27063</td>\n",
       "      <td>8235</td>\n",
       "      <td>903</td>\n",
       "      <td>详情</td>\n",
       "    </tr>\n",
       "    <tr>\n",
       "      <th>100</th>\n",
       "      <td>几内亚</td>\n",
       "      <td>113</td>\n",
       "      <td>363</td>\n",
       "      <td>31</td>\n",
       "      <td>0</td>\n",
       "      <td>详情</td>\n",
       "    </tr>\n",
       "    <tr>\n",
       "      <th>101</th>\n",
       "      <td>毛里求斯</td>\n",
       "      <td>0</td>\n",
       "      <td>324</td>\n",
       "      <td>51</td>\n",
       "      <td>9</td>\n",
       "      <td>None</td>\n",
       "    </tr>\n",
       "  </tbody>\n",
       "</table>\n",
       "</div>"
      ],
      "text/plain": [
       "       地区   新增确诊    累计确诊     治愈     死亡    疫情\n",
       "0      美国  26465  609685  49966  26059    详情\n",
       "1     西班牙   5092  177633  70853  18579    详情\n",
       "10    加拿大   1383   27063   8235    903    详情\n",
       "100   几内亚    113     363     31      0    详情\n",
       "101  毛里求斯      0     324     51      9  None"
      ]
     },
     "execution_count": 66,
     "metadata": {},
     "output_type": "execute_result"
    }
   ],
   "source": [
    "foreign_df.head()"
   ]
  },
  {
   "cell_type": "markdown",
   "metadata": {},
   "source": [
    "### 清洗数据。"
   ]
  },
  {
   "cell_type": "code",
   "execution_count": 67,
   "metadata": {
    "scrolled": true
   },
   "outputs": [],
   "source": [
    "# foreign_df  按新增确诊排列\n",
    "foreign_df=foreign_df.sort_values('新增确诊',ascending=False)"
   ]
  },
  {
   "cell_type": "code",
   "execution_count": 68,
   "metadata": {},
   "outputs": [],
   "source": [
    "#foreign_df  删除疫情列   foreign_df = foreign_df.iloc[:,0:len(foreign_df.columns)-1]"
   ]
  },
  {
   "cell_type": "code",
   "execution_count": 69,
   "metadata": {},
   "outputs": [],
   "source": [
    "# foreign_df 重置 index\n",
    "foreign_df=foreign_df.reset_index(drop=True) # drop参数是问你是否删除之前的index"
   ]
  },
  {
   "cell_type": "markdown",
   "metadata": {},
   "source": [
    "注意 reset_index() 和 reindex() 的区别  \n",
    "\n",
    "foreign_df.reindex(index = list(np.arange(0,len(foreign_df.index),1)))"
   ]
  },
  {
   "cell_type": "code",
   "execution_count": 70,
   "metadata": {
    "scrolled": true
   },
   "outputs": [
    {
     "data": {
      "text/html": [
       "<div>\n",
       "<style scoped>\n",
       "    .dataframe tbody tr th:only-of-type {\n",
       "        vertical-align: middle;\n",
       "    }\n",
       "\n",
       "    .dataframe tbody tr th {\n",
       "        vertical-align: top;\n",
       "    }\n",
       "\n",
       "    .dataframe thead th {\n",
       "        text-align: right;\n",
       "    }\n",
       "</style>\n",
       "<table border=\"1\" class=\"dataframe\">\n",
       "  <thead>\n",
       "    <tr style=\"text-align: right;\">\n",
       "      <th></th>\n",
       "      <th>地区</th>\n",
       "      <th>新增确诊</th>\n",
       "      <th>累计确诊</th>\n",
       "      <th>治愈</th>\n",
       "      <th>死亡</th>\n",
       "      <th>疫情</th>\n",
       "    </tr>\n",
       "  </thead>\n",
       "  <tbody>\n",
       "    <tr>\n",
       "      <th>0</th>\n",
       "      <td>美国</td>\n",
       "      <td>26465</td>\n",
       "      <td>609685</td>\n",
       "      <td>49966</td>\n",
       "      <td>26059</td>\n",
       "      <td>详情</td>\n",
       "    </tr>\n",
       "    <tr>\n",
       "      <th>1</th>\n",
       "      <td>英国</td>\n",
       "      <td>5278</td>\n",
       "      <td>94847</td>\n",
       "      <td>344</td>\n",
       "      <td>12131</td>\n",
       "      <td>详情</td>\n",
       "    </tr>\n",
       "    <tr>\n",
       "      <th>2</th>\n",
       "      <td>西班牙</td>\n",
       "      <td>5092</td>\n",
       "      <td>177633</td>\n",
       "      <td>70853</td>\n",
       "      <td>18579</td>\n",
       "      <td>详情</td>\n",
       "    </tr>\n",
       "    <tr>\n",
       "      <th>3</th>\n",
       "      <td>法国</td>\n",
       "      <td>4202</td>\n",
       "      <td>131362</td>\n",
       "      <td>29121</td>\n",
       "      <td>15750</td>\n",
       "      <td>详情</td>\n",
       "    </tr>\n",
       "    <tr>\n",
       "      <th>4</th>\n",
       "      <td>土耳其</td>\n",
       "      <td>4062</td>\n",
       "      <td>65111</td>\n",
       "      <td>4799</td>\n",
       "      <td>1403</td>\n",
       "      <td>详情</td>\n",
       "    </tr>\n",
       "  </tbody>\n",
       "</table>\n",
       "</div>"
      ],
      "text/plain": [
       "    地区   新增确诊    累计确诊     治愈     死亡  疫情\n",
       "0   美国  26465  609685  49966  26059  详情\n",
       "1   英国   5278   94847    344  12131  详情\n",
       "2  西班牙   5092  177633  70853  18579  详情\n",
       "3   法国   4202  131362  29121  15750  详情\n",
       "4  土耳其   4062   65111   4799   1403  详情"
      ]
     },
     "execution_count": 70,
     "metadata": {},
     "output_type": "execute_result"
    }
   ],
   "source": [
    "foreign_df.head()"
   ]
  },
  {
   "cell_type": "markdown",
   "metadata": {},
   "source": [
    "---"
   ]
  },
  {
   "cell_type": "markdown",
   "metadata": {},
   "source": [
    "# china数据的导入与简单清理"
   ]
  },
  {
   "cell_type": "markdown",
   "metadata": {},
   "source": [
    "### 导入"
   ]
  },
  {
   "cell_type": "code",
   "execution_count": 71,
   "metadata": {},
   "outputs": [],
   "source": [
    "import pandas as pd\n",
    "import numpy as np"
   ]
  },
  {
   "cell_type": "code",
   "execution_count": 72,
   "metadata": {},
   "outputs": [],
   "source": [
    "china_df = pd.read_json('./data/china_df.json')"
   ]
  },
  {
   "cell_type": "code",
   "execution_count": 73,
   "metadata": {
    "scrolled": false
   },
   "outputs": [
    {
     "data": {
      "text/html": [
       "<div>\n",
       "<style scoped>\n",
       "    .dataframe tbody tr th:only-of-type {\n",
       "        vertical-align: middle;\n",
       "    }\n",
       "\n",
       "    .dataframe tbody tr th {\n",
       "        vertical-align: top;\n",
       "    }\n",
       "\n",
       "    .dataframe thead th {\n",
       "        text-align: right;\n",
       "    }\n",
       "</style>\n",
       "<table border=\"1\" class=\"dataframe\">\n",
       "  <thead>\n",
       "    <tr style=\"text-align: right;\">\n",
       "      <th></th>\n",
       "      <th>0</th>\n",
       "      <th>1</th>\n",
       "      <th>2</th>\n",
       "      <th>3</th>\n",
       "      <th>4</th>\n",
       "      <th>5</th>\n",
       "    </tr>\n",
       "  </thead>\n",
       "  <tbody>\n",
       "    <tr>\n",
       "      <th>0</th>\n",
       "      <td>香港</td>\n",
       "      <td>553</td>\n",
       "      <td>1016  较上日+3</td>\n",
       "      <td>459</td>\n",
       "      <td>4.0</td>\n",
       "      <td>详情</td>\n",
       "    </tr>\n",
       "    <tr>\n",
       "      <th>1</th>\n",
       "      <td>地区待确认</td>\n",
       "      <td>553</td>\n",
       "      <td>1016</td>\n",
       "      <td>459</td>\n",
       "      <td>4.0</td>\n",
       "      <td>None</td>\n",
       "    </tr>\n",
       "    <tr>\n",
       "      <th>10</th>\n",
       "      <td>双鸭山</td>\n",
       "      <td>0</td>\n",
       "      <td>52</td>\n",
       "      <td>49</td>\n",
       "      <td>3.0</td>\n",
       "      <td>None</td>\n",
       "    </tr>\n",
       "    <tr>\n",
       "      <th>100</th>\n",
       "      <td>朝阳</td>\n",
       "      <td>-</td>\n",
       "      <td>72</td>\n",
       "      <td>-</td>\n",
       "      <td>0.0</td>\n",
       "      <td>None</td>\n",
       "    </tr>\n",
       "    <tr>\n",
       "      <th>101</th>\n",
       "      <td>海淀</td>\n",
       "      <td>-</td>\n",
       "      <td>64</td>\n",
       "      <td>-</td>\n",
       "      <td>0.0</td>\n",
       "      <td>None</td>\n",
       "    </tr>\n",
       "  </tbody>\n",
       "</table>\n",
       "</div>"
      ],
      "text/plain": [
       "         0    1            2    3    4     5\n",
       "0       香港  553  1016  较上日+3  459  4.0    详情\n",
       "1    地区待确认  553         1016  459  4.0  None\n",
       "10     双鸭山    0           52   49  3.0  None\n",
       "100     朝阳    -           72    -  0.0  None\n",
       "101     海淀    -           64    -  0.0  None"
      ]
     },
     "execution_count": 73,
     "metadata": {},
     "output_type": "execute_result"
    }
   ],
   "source": [
    "china_df.head()"
   ]
  },
  {
   "cell_type": "markdown",
   "metadata": {},
   "source": [
    "### 清洗"
   ]
  },
  {
   "cell_type": "code",
   "execution_count": 74,
   "metadata": {},
   "outputs": [],
   "source": [
    "# 重置index标签\n",
    "china_df=china_df.reset_index(drop=True)\n",
    "# 重命名colums标签 \n",
    "china_df = china_df.rename({0:'地区',1: '新增确诊', 2:'累计确诊',3: '治愈',4:'死亡',5:'其他'}, axis='columns')"
   ]
  },
  {
   "cell_type": "code",
   "execution_count": 75,
   "metadata": {},
   "outputs": [
    {
     "data": {
      "text/html": [
       "<div>\n",
       "<style scoped>\n",
       "    .dataframe tbody tr th:only-of-type {\n",
       "        vertical-align: middle;\n",
       "    }\n",
       "\n",
       "    .dataframe tbody tr th {\n",
       "        vertical-align: top;\n",
       "    }\n",
       "\n",
       "    .dataframe thead th {\n",
       "        text-align: right;\n",
       "    }\n",
       "</style>\n",
       "<table border=\"1\" class=\"dataframe\">\n",
       "  <thead>\n",
       "    <tr style=\"text-align: right;\">\n",
       "      <th></th>\n",
       "      <th>地区</th>\n",
       "      <th>新增确诊</th>\n",
       "      <th>累计确诊</th>\n",
       "      <th>治愈</th>\n",
       "      <th>死亡</th>\n",
       "      <th>其他</th>\n",
       "    </tr>\n",
       "  </thead>\n",
       "  <tbody>\n",
       "    <tr>\n",
       "      <th>0</th>\n",
       "      <td>香港</td>\n",
       "      <td>553</td>\n",
       "      <td>1016  较上日+3</td>\n",
       "      <td>459</td>\n",
       "      <td>4.0</td>\n",
       "      <td>详情</td>\n",
       "    </tr>\n",
       "    <tr>\n",
       "      <th>1</th>\n",
       "      <td>地区待确认</td>\n",
       "      <td>553</td>\n",
       "      <td>1016</td>\n",
       "      <td>459</td>\n",
       "      <td>4.0</td>\n",
       "      <td>None</td>\n",
       "    </tr>\n",
       "    <tr>\n",
       "      <th>2</th>\n",
       "      <td>双鸭山</td>\n",
       "      <td>0</td>\n",
       "      <td>52</td>\n",
       "      <td>49</td>\n",
       "      <td>3.0</td>\n",
       "      <td>None</td>\n",
       "    </tr>\n",
       "    <tr>\n",
       "      <th>3</th>\n",
       "      <td>朝阳</td>\n",
       "      <td>-</td>\n",
       "      <td>72</td>\n",
       "      <td>-</td>\n",
       "      <td>0.0</td>\n",
       "      <td>None</td>\n",
       "    </tr>\n",
       "    <tr>\n",
       "      <th>4</th>\n",
       "      <td>海淀</td>\n",
       "      <td>-</td>\n",
       "      <td>64</td>\n",
       "      <td>-</td>\n",
       "      <td>0.0</td>\n",
       "      <td>None</td>\n",
       "    </tr>\n",
       "  </tbody>\n",
       "</table>\n",
       "</div>"
      ],
      "text/plain": [
       "      地区 新增确诊         累计确诊   治愈   死亡    其他\n",
       "0     香港  553  1016  较上日+3  459  4.0    详情\n",
       "1  地区待确认  553         1016  459  4.0  None\n",
       "2    双鸭山    0           52   49  3.0  None\n",
       "3     朝阳    -           72    -  0.0  None\n",
       "4     海淀    -           64    -  0.0  None"
      ]
     },
     "execution_count": 75,
     "metadata": {},
     "output_type": "execute_result"
    }
   ],
   "source": [
    "china_df.head()"
   ]
  },
  {
   "cell_type": "markdown",
   "metadata": {},
   "source": [
    "### china_df 拆分为 china_province_df 和 china_city_df\n",
    "思路：如果最后一列是详情，则说明当前index是省数据。"
   ]
  },
  {
   "cell_type": "code",
   "execution_count": 76,
   "metadata": {
    "scrolled": true
   },
   "outputs": [
    {
     "name": "stdout",
     "output_type": "stream",
     "text": [
      "   其他\n",
      "0  详情 \n",
      "\n",
      "     其他\n",
      "0  True \n",
      "\n",
      "详情 \n",
      "\n",
      "详情 \n",
      "\n"
     ]
    }
   ],
   "source": [
    "# 测试  结果是dataframe\n",
    "print(china_df.iloc[0:1,5:6] ,'\\n') \n",
    "\n",
    "# 测试  结果是dataframe的元素的判断并赋值判断结果\n",
    "print(china_df.iloc[0:1,5:6]=='详情' ,'\\n')\n",
    "\n",
    "# 测试  提取标量值\n",
    "print(china_df.iloc[0,5],'\\n')\n",
    "\n",
    "# 测试 提取标量值\n",
    "print(china_df['其他'][0] , '\\n')"
   ]
  },
  {
   "cell_type": "code",
   "execution_count": 77,
   "metadata": {
    "scrolled": true
   },
   "outputs": [
    {
     "name": "stdout",
     "output_type": "stream",
     "text": [
      "<class 'int'>\n",
      "<class 'int'>\n"
     ]
    }
   ],
   "source": [
    "index_list = list(china_df.index) # index标签列表\n",
    "last_col_loc = len(china_df.columns)-1 #最后一列的位置\n",
    "print(type(index_list[0]))\n",
    "print(type(last_col_loc))"
   ]
  },
  {
   "cell_type": "code",
   "execution_count": 78,
   "metadata": {},
   "outputs": [],
   "source": [
    "#省数据的idnex的列表推导式\n",
    "# iloc[1,2]按位置提取标量值，注意这里不是iloc[ :,: ] 。 \n",
    "province_index = [ x for x in index_list if china_df.iloc[x,last_col_loc] ]   "
   ]
  },
  {
   "cell_type": "code",
   "execution_count": 79,
   "metadata": {},
   "outputs": [],
   "source": [
    "# 拿到china_province_df\n",
    "china_province_df = china_df.loc[province_index,:]   # 注意loc按标签提取   iloc按位置提取\n",
    "# 拿到china_city_df\n",
    "china_city_df = china_df.drop(province_index)"
   ]
  },
  {
   "cell_type": "code",
   "execution_count": 80,
   "metadata": {},
   "outputs": [],
   "source": [
    "# 重置index \n",
    "china_province_df = china_province_df.reset_index(drop=True)\n",
    "china_city_df = china_city_df.reset_index(drop=True)"
   ]
  },
  {
   "cell_type": "code",
   "execution_count": 81,
   "metadata": {},
   "outputs": [],
   "source": [
    "# 删除最后一列        iloc[:,:]\n",
    "# china_province_df = china_province_df.iloc[:,0:len(china_province_df.columns)-1]\n",
    "# china_city_df = china_city_df.iloc[:,0:len(china_city_df.columns)-1]"
   ]
  },
  {
   "cell_type": "code",
   "execution_count": 82,
   "metadata": {
    "scrolled": false
   },
   "outputs": [
    {
     "data": {
      "text/html": [
       "<div>\n",
       "<style scoped>\n",
       "    .dataframe tbody tr th:only-of-type {\n",
       "        vertical-align: middle;\n",
       "    }\n",
       "\n",
       "    .dataframe tbody tr th {\n",
       "        vertical-align: top;\n",
       "    }\n",
       "\n",
       "    .dataframe thead th {\n",
       "        text-align: right;\n",
       "    }\n",
       "</style>\n",
       "<table border=\"1\" class=\"dataframe\">\n",
       "  <thead>\n",
       "    <tr style=\"text-align: right;\">\n",
       "      <th></th>\n",
       "      <th>地区</th>\n",
       "      <th>新增确诊</th>\n",
       "      <th>累计确诊</th>\n",
       "      <th>治愈</th>\n",
       "      <th>死亡</th>\n",
       "      <th>其他</th>\n",
       "    </tr>\n",
       "  </thead>\n",
       "  <tbody>\n",
       "    <tr>\n",
       "      <th>0</th>\n",
       "      <td>香港</td>\n",
       "      <td>553</td>\n",
       "      <td>1016  较上日+3</td>\n",
       "      <td>459</td>\n",
       "      <td>4.0</td>\n",
       "      <td>详情</td>\n",
       "    </tr>\n",
       "    <tr>\n",
       "      <th>1</th>\n",
       "      <td>山西</td>\n",
       "      <td>51</td>\n",
       "      <td>186  较上日+13</td>\n",
       "      <td>135</td>\n",
       "      <td>0.0</td>\n",
       "      <td>详情</td>\n",
       "    </tr>\n",
       "    <tr>\n",
       "      <th>2</th>\n",
       "      <td>澳门</td>\n",
       "      <td>30</td>\n",
       "      <td>45  6天0新增</td>\n",
       "      <td>15</td>\n",
       "      <td>0.0</td>\n",
       "      <td>详情</td>\n",
       "    </tr>\n",
       "    <tr>\n",
       "      <th>3</th>\n",
       "      <td>浙江</td>\n",
       "      <td>23</td>\n",
       "      <td>1268  较上日+1</td>\n",
       "      <td>1244</td>\n",
       "      <td>1.0</td>\n",
       "      <td>详情</td>\n",
       "    </tr>\n",
       "    <tr>\n",
       "      <th>4</th>\n",
       "      <td>福建</td>\n",
       "      <td>21</td>\n",
       "      <td>353  1天0新增</td>\n",
       "      <td>331</td>\n",
       "      <td>1.0</td>\n",
       "      <td>详情</td>\n",
       "    </tr>\n",
       "  </tbody>\n",
       "</table>\n",
       "</div>"
      ],
      "text/plain": [
       "   地区 新增确诊         累计确诊    治愈   死亡  其他\n",
       "0  香港  553  1016  较上日+3   459  4.0  详情\n",
       "1  山西   51  186  较上日+13   135  0.0  详情\n",
       "2  澳门   30    45  6天0新增    15  0.0  详情\n",
       "3  浙江   23  1268  较上日+1  1244  1.0  详情\n",
       "4  福建   21   353  1天0新增   331  1.0  详情"
      ]
     },
     "execution_count": 82,
     "metadata": {},
     "output_type": "execute_result"
    }
   ],
   "source": [
    "china_province_df.head()"
   ]
  },
  {
   "cell_type": "code",
   "execution_count": 83,
   "metadata": {
    "scrolled": false
   },
   "outputs": [
    {
     "data": {
      "text/html": [
       "<div>\n",
       "<style scoped>\n",
       "    .dataframe tbody tr th:only-of-type {\n",
       "        vertical-align: middle;\n",
       "    }\n",
       "\n",
       "    .dataframe tbody tr th {\n",
       "        vertical-align: top;\n",
       "    }\n",
       "\n",
       "    .dataframe thead th {\n",
       "        text-align: right;\n",
       "    }\n",
       "</style>\n",
       "<table border=\"1\" class=\"dataframe\">\n",
       "  <thead>\n",
       "    <tr style=\"text-align: right;\">\n",
       "      <th></th>\n",
       "      <th>地区</th>\n",
       "      <th>新增确诊</th>\n",
       "      <th>累计确诊</th>\n",
       "      <th>治愈</th>\n",
       "      <th>死亡</th>\n",
       "      <th>其他</th>\n",
       "    </tr>\n",
       "  </thead>\n",
       "  <tbody>\n",
       "    <tr>\n",
       "      <th>0</th>\n",
       "      <td>地区待确认</td>\n",
       "      <td>553</td>\n",
       "      <td>1016</td>\n",
       "      <td>459</td>\n",
       "      <td>4.0</td>\n",
       "      <td>None</td>\n",
       "    </tr>\n",
       "    <tr>\n",
       "      <th>1</th>\n",
       "      <td>双鸭山</td>\n",
       "      <td>0</td>\n",
       "      <td>52</td>\n",
       "      <td>49</td>\n",
       "      <td>3.0</td>\n",
       "      <td>None</td>\n",
       "    </tr>\n",
       "    <tr>\n",
       "      <th>2</th>\n",
       "      <td>朝阳</td>\n",
       "      <td>-</td>\n",
       "      <td>72</td>\n",
       "      <td>-</td>\n",
       "      <td>0.0</td>\n",
       "      <td>None</td>\n",
       "    </tr>\n",
       "    <tr>\n",
       "      <th>3</th>\n",
       "      <td>海淀</td>\n",
       "      <td>-</td>\n",
       "      <td>64</td>\n",
       "      <td>-</td>\n",
       "      <td>0.0</td>\n",
       "      <td>None</td>\n",
       "    </tr>\n",
       "    <tr>\n",
       "      <th>4</th>\n",
       "      <td>西城</td>\n",
       "      <td>-</td>\n",
       "      <td>53</td>\n",
       "      <td>-</td>\n",
       "      <td>0.0</td>\n",
       "      <td>None</td>\n",
       "    </tr>\n",
       "  </tbody>\n",
       "</table>\n",
       "</div>"
      ],
      "text/plain": [
       "      地区 新增确诊  累计确诊   治愈   死亡    其他\n",
       "0  地区待确认  553  1016  459  4.0  None\n",
       "1    双鸭山    0    52   49  3.0  None\n",
       "2     朝阳    -    72    -  0.0  None\n",
       "3     海淀    -    64    -  0.0  None\n",
       "4     西城    -    53    -  0.0  None"
      ]
     },
     "execution_count": 83,
     "metadata": {},
     "output_type": "execute_result"
    }
   ],
   "source": [
    "china_city_df.head()"
   ]
  },
  {
   "cell_type": "markdown",
   "metadata": {},
   "source": [
    "---"
   ]
  },
  {
   "cell_type": "markdown",
   "metadata": {},
   "source": [
    "# 可视化1：海外新增TOP10（matplotlib）"
   ]
  },
  {
   "cell_type": "markdown",
   "metadata": {},
   "source": [
    "##### 数据清理"
   ]
  },
  {
   "cell_type": "code",
   "execution_count": 98,
   "metadata": {},
   "outputs": [],
   "source": [
    "import pandas as pd\n",
    "import numpy as np"
   ]
  },
  {
   "cell_type": "code",
   "execution_count": 110,
   "metadata": {},
   "outputs": [
    {
     "data": {
      "text/html": [
       "<div>\n",
       "<style scoped>\n",
       "    .dataframe tbody tr th:only-of-type {\n",
       "        vertical-align: middle;\n",
       "    }\n",
       "\n",
       "    .dataframe tbody tr th {\n",
       "        vertical-align: top;\n",
       "    }\n",
       "\n",
       "    .dataframe thead th {\n",
       "        text-align: right;\n",
       "    }\n",
       "</style>\n",
       "<table border=\"1\" class=\"dataframe\">\n",
       "  <thead>\n",
       "    <tr style=\"text-align: right;\">\n",
       "      <th></th>\n",
       "      <th>地区</th>\n",
       "      <th>新增确诊</th>\n",
       "      <th>累计确诊</th>\n",
       "      <th>治愈</th>\n",
       "      <th>死亡</th>\n",
       "      <th>疫情</th>\n",
       "    </tr>\n",
       "  </thead>\n",
       "  <tbody>\n",
       "    <tr>\n",
       "      <th>0</th>\n",
       "      <td>美国</td>\n",
       "      <td>26465</td>\n",
       "      <td>609685</td>\n",
       "      <td>49966</td>\n",
       "      <td>26059</td>\n",
       "      <td>详情</td>\n",
       "    </tr>\n",
       "    <tr>\n",
       "      <th>1</th>\n",
       "      <td>英国</td>\n",
       "      <td>5278</td>\n",
       "      <td>94847</td>\n",
       "      <td>344</td>\n",
       "      <td>12131</td>\n",
       "      <td>详情</td>\n",
       "    </tr>\n",
       "    <tr>\n",
       "      <th>2</th>\n",
       "      <td>西班牙</td>\n",
       "      <td>5092</td>\n",
       "      <td>177633</td>\n",
       "      <td>70853</td>\n",
       "      <td>18579</td>\n",
       "      <td>详情</td>\n",
       "    </tr>\n",
       "    <tr>\n",
       "      <th>3</th>\n",
       "      <td>法国</td>\n",
       "      <td>4202</td>\n",
       "      <td>131362</td>\n",
       "      <td>29121</td>\n",
       "      <td>15750</td>\n",
       "      <td>详情</td>\n",
       "    </tr>\n",
       "    <tr>\n",
       "      <th>4</th>\n",
       "      <td>土耳其</td>\n",
       "      <td>4062</td>\n",
       "      <td>65111</td>\n",
       "      <td>4799</td>\n",
       "      <td>1403</td>\n",
       "      <td>详情</td>\n",
       "    </tr>\n",
       "  </tbody>\n",
       "</table>\n",
       "</div>"
      ],
      "text/plain": [
       "    地区   新增确诊    累计确诊     治愈     死亡  疫情\n",
       "0   美国  26465  609685  49966  26059  详情\n",
       "1   英国   5278   94847    344  12131  详情\n",
       "2  西班牙   5092  177633  70853  18579  详情\n",
       "3   法国   4202  131362  29121  15750  详情\n",
       "4  土耳其   4062   65111   4799   1403  详情"
      ]
     },
     "execution_count": 110,
     "metadata": {},
     "output_type": "execute_result"
    }
   ],
   "source": [
    "foreign_df.head()"
   ]
  },
  {
   "cell_type": "code",
   "execution_count": 112,
   "metadata": {},
   "outputs": [],
   "source": [
    "df = foreign_df"
   ]
  },
  {
   "cell_type": "code",
   "execution_count": 113,
   "metadata": {},
   "outputs": [],
   "source": [
    "# 确保新增确诊是int类型(可以排序)，我将强制转为int，然后生成一个新的df\n",
    "dict_ = {'地区':df['地区'],'新增确诊':[ x for x  in df['新增确诊'].values]}\n",
    "df = pd.DataFrame(dict_)"
   ]
  },
  {
   "cell_type": "code",
   "execution_count": 114,
   "metadata": {},
   "outputs": [],
   "source": [
    "# 按新增确诊排序\n",
    "df = df.sort_values('新增确诊',ascending=False)"
   ]
  },
  {
   "cell_type": "code",
   "execution_count": 115,
   "metadata": {},
   "outputs": [
    {
     "data": {
      "text/html": [
       "<div>\n",
       "<style scoped>\n",
       "    .dataframe tbody tr th:only-of-type {\n",
       "        vertical-align: middle;\n",
       "    }\n",
       "\n",
       "    .dataframe tbody tr th {\n",
       "        vertical-align: top;\n",
       "    }\n",
       "\n",
       "    .dataframe thead th {\n",
       "        text-align: right;\n",
       "    }\n",
       "</style>\n",
       "<table border=\"1\" class=\"dataframe\">\n",
       "  <thead>\n",
       "    <tr style=\"text-align: right;\">\n",
       "      <th></th>\n",
       "      <th>地区</th>\n",
       "      <th>新增确诊</th>\n",
       "    </tr>\n",
       "  </thead>\n",
       "  <tbody>\n",
       "    <tr>\n",
       "      <th>0</th>\n",
       "      <td>美国</td>\n",
       "      <td>26465</td>\n",
       "    </tr>\n",
       "    <tr>\n",
       "      <th>1</th>\n",
       "      <td>英国</td>\n",
       "      <td>5278</td>\n",
       "    </tr>\n",
       "    <tr>\n",
       "      <th>2</th>\n",
       "      <td>西班牙</td>\n",
       "      <td>5092</td>\n",
       "    </tr>\n",
       "    <tr>\n",
       "      <th>3</th>\n",
       "      <td>法国</td>\n",
       "      <td>4202</td>\n",
       "    </tr>\n",
       "    <tr>\n",
       "      <th>4</th>\n",
       "      <td>土耳其</td>\n",
       "      <td>4062</td>\n",
       "    </tr>\n",
       "  </tbody>\n",
       "</table>\n",
       "</div>"
      ],
      "text/plain": [
       "    地区   新增确诊\n",
       "0   美国  26465\n",
       "1   英国   5278\n",
       "2  西班牙   5092\n",
       "3   法国   4202\n",
       "4  土耳其   4062"
      ]
     },
     "execution_count": 115,
     "metadata": {},
     "output_type": "execute_result"
    }
   ],
   "source": [
    "df.head()"
   ]
  },
  {
   "cell_type": "code",
   "execution_count": 116,
   "metadata": {},
   "outputs": [],
   "source": [
    "# top\n",
    "top=df.head(10)"
   ]
  },
  {
   "cell_type": "code",
   "execution_count": 117,
   "metadata": {},
   "outputs": [],
   "source": [
    "# values属性取出series中的数据\n",
    "x = top['地区'].values\n",
    "y = top['新增确诊'].values"
   ]
  },
  {
   "cell_type": "code",
   "execution_count": 118,
   "metadata": {},
   "outputs": [
    {
     "name": "stdout",
     "output_type": "stream",
     "text": [
      "['美国' '英国' '西班牙' '法国' '土耳其' '俄罗斯' '意大利' '比利时' '巴西' '德国']\n",
      "[26465  5278  5092  4202  4062  3388  2972  2454  1803  1776]\n"
     ]
    }
   ],
   "source": [
    "print(x)\n",
    "print(y)"
   ]
  },
  {
   "cell_type": "markdown",
   "metadata": {},
   "source": [
    "##### 可视化 matplotlib"
   ]
  },
  {
   "cell_type": "code",
   "execution_count": 119,
   "metadata": {},
   "outputs": [],
   "source": [
    "%matplotlib inline\n",
    "import matplotlib.pyplot as plt"
   ]
  },
  {
   "cell_type": "code",
   "execution_count": 120,
   "metadata": {},
   "outputs": [],
   "source": [
    "# 设置中文字体\n",
    "plt.rcParams['font.family']=['sans-serif']\n",
    "plt.rcParams['font.sans-serif']=['SimHei']"
   ]
  },
  {
   "cell_type": "code",
   "execution_count": 121,
   "metadata": {
    "scrolled": false
   },
   "outputs": [
    {
     "data": {
      "image/png": "[encoded data removed]",
      "text/plain": [
       "<Figure size 432x288 with 1 Axes>"
      ]
     },
     "metadata": {
      "needs_background": "light"
     },
     "output_type": "display_data"
    }
   ],
   "source": [
    "plt.bar(x,y)\n",
    "\n",
    "# 在每个柱上加数值标签\n",
    "for a,b in zip(x,y):\n",
    "    # 参数 a,b+50 是文本标签的空间位置   ha是文本标签的内容居中\n",
    "    plt.text(a,b+50,'%d'%b,ha='center')"
   ]
  },
  {
   "cell_type": "markdown",
   "metadata": {},
   "source": [
    "---"
   ]
  },
  {
   "cell_type": "markdown",
   "metadata": {},
   "source": [
    "# 可视化2：中国新增top （matplotlib）"
   ]
  },
  {
   "cell_type": "markdown",
   "metadata": {},
   "source": [
    "#### 数据清理"
   ]
  },
  {
   "cell_type": "code",
   "execution_count": 125,
   "metadata": {},
   "outputs": [],
   "source": [
    "import pandas as pd\n",
    "import numpy as np"
   ]
  },
  {
   "cell_type": "code",
   "execution_count": 126,
   "metadata": {},
   "outputs": [],
   "source": [
    "df = china_province_df"
   ]
  },
  {
   "cell_type": "code",
   "execution_count": 127,
   "metadata": {},
   "outputs": [],
   "source": [
    "# 为了确保新增确诊的元素是数值，这样的才能排序。\n",
    "# 我们将新增确诊的元素强制为int类型，然后重新构建一个df\n",
    "dict_ = {'地区':df['地区'],'新增确诊':pd.Series([ int(x) for x in df['新增确诊'].values ])}\n",
    "df = pd.DataFrame(dict_)"
   ]
  },
  {
   "cell_type": "code",
   "execution_count": 128,
   "metadata": {},
   "outputs": [],
   "source": [
    "# 按照新增确诊排序  降序\n",
    "df = df.sort_values('新增确诊',ascending=False)\n",
    "# 重置index\n",
    "df = df.reset_index(drop=True)"
   ]
  },
  {
   "cell_type": "code",
   "execution_count": 129,
   "metadata": {},
   "outputs": [
    {
     "data": {
      "text/html": [
       "<div>\n",
       "<style scoped>\n",
       "    .dataframe tbody tr th:only-of-type {\n",
       "        vertical-align: middle;\n",
       "    }\n",
       "\n",
       "    .dataframe tbody tr th {\n",
       "        vertical-align: top;\n",
       "    }\n",
       "\n",
       "    .dataframe thead th {\n",
       "        text-align: right;\n",
       "    }\n",
       "</style>\n",
       "<table border=\"1\" class=\"dataframe\">\n",
       "  <thead>\n",
       "    <tr style=\"text-align: right;\">\n",
       "      <th></th>\n",
       "      <th>地区</th>\n",
       "      <th>新增确诊</th>\n",
       "    </tr>\n",
       "  </thead>\n",
       "  <tbody>\n",
       "    <tr>\n",
       "      <th>0</th>\n",
       "      <td>香港</td>\n",
       "      <td>553</td>\n",
       "    </tr>\n",
       "    <tr>\n",
       "      <th>1</th>\n",
       "      <td>黑龙江</td>\n",
       "      <td>358</td>\n",
       "    </tr>\n",
       "    <tr>\n",
       "      <th>2</th>\n",
       "      <td>台湾</td>\n",
       "      <td>265</td>\n",
       "    </tr>\n",
       "    <tr>\n",
       "      <th>3</th>\n",
       "      <td>湖北</td>\n",
       "      <td>179</td>\n",
       "    </tr>\n",
       "    <tr>\n",
       "      <th>4</th>\n",
       "      <td>上海</td>\n",
       "      <td>130</td>\n",
       "    </tr>\n",
       "  </tbody>\n",
       "</table>\n",
       "</div>"
      ],
      "text/plain": [
       "    地区  新增确诊\n",
       "0   香港   553\n",
       "1  黑龙江   358\n",
       "2   台湾   265\n",
       "3   湖北   179\n",
       "4   上海   130"
      ]
     },
     "execution_count": 129,
     "metadata": {},
     "output_type": "execute_result"
    }
   ],
   "source": [
    "df.head()"
   ]
  },
  {
   "cell_type": "code",
   "execution_count": 130,
   "metadata": {},
   "outputs": [],
   "source": [
    "# top\n",
    "top = df.head(10) "
   ]
  },
  {
   "cell_type": "code",
   "execution_count": 131,
   "metadata": {},
   "outputs": [],
   "source": [
    "x = top['地区'].values  \n",
    "y = top['新增确诊'].values"
   ]
  },
  {
   "cell_type": "code",
   "execution_count": null,
   "metadata": {
    "scrolled": true
   },
   "outputs": [],
   "source": [
    "# test\n",
    "print(x)\n",
    "print(y)"
   ]
  },
  {
   "cell_type": "markdown",
   "metadata": {},
   "source": [
    "#### 可视化"
   ]
  },
  {
   "cell_type": "code",
   "execution_count": 132,
   "metadata": {},
   "outputs": [],
   "source": [
    "import matplotlib.pyplot as plt\n",
    "%matplotlib inline"
   ]
  },
  {
   "cell_type": "code",
   "execution_count": 133,
   "metadata": {},
   "outputs": [],
   "source": [
    "# 设置中文字体\n",
    "plt.rcParams['font.family']=['sans-serif']\n",
    "plt.rcParams['font.sans-serif']=['SimHei']"
   ]
  },
  {
   "cell_type": "code",
   "execution_count": 134,
   "metadata": {},
   "outputs": [
    {
     "data": {
      "image/png": "[encoded data removed]",
      "text/plain": [
       "<Figure size 432x288 with 1 Axes>"
      ]
     },
     "metadata": {
      "needs_background": "light"
     },
     "output_type": "display_data"
    }
   ],
   "source": [
    "plt.bar(x,y)\n",
    "\n",
    "for a,b in zip(x,y):\n",
    "    plt.text(a,b+5,'%d'%b,ha='center')"
   ]
  },
  {
   "cell_type": "markdown",
   "metadata": {},
   "source": [
    "# 可视化3：全球新增top 疫情地图(pyecharts)"
   ]
  },
  {
   "cell_type": "code",
   "execution_count": null,
   "metadata": {},
   "outputs": [],
   "source": []
  },
  {
   "cell_type": "code",
   "execution_count": null,
   "metadata": {},
   "outputs": [],
   "source": []
  },
  {
   "cell_type": "code",
   "execution_count": null,
   "metadata": {},
   "outputs": [],
   "source": []
  },
  {
   "cell_type": "code",
   "execution_count": null,
   "metadata": {},
   "outputs": [],
   "source": []
  },
  {
   "cell_type": "code",
   "execution_count": null,
   "metadata": {},
   "outputs": [],
   "source": []
  },
  {
   "cell_type": "code",
   "execution_count": null,
   "metadata": {},
   "outputs": [],
   "source": []
  },
  {
   "cell_type": "code",
   "execution_count": null,
   "metadata": {},
   "outputs": [],
   "source": []
  }
 ],
 "metadata": {
  "kernelspec": {
   "display_name": "Python 3",
   "language": "python",
   "name": "python3"
  },
  "language_info": {
   "codemirror_mode": {
    "name": "ipython",
    "version": 3
   },
   "file_extension": ".py",
   "mimetype": "text/x-python",
   "name": "python",
   "nbconvert_exporter": "python",
   "pygments_lexer": "ipython3",
   "version": "3.7.1"
  }
 },
 "nbformat": 4,
 "nbformat_minor": 2
}
